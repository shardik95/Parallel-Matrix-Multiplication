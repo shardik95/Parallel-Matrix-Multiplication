{
 "cells": [
  {
   "cell_type": "code",
   "execution_count": 10,
   "metadata": {},
   "outputs": [],
   "source": [
    "from collections import defaultdict\n",
    "import random\n",
    "import time\n",
    "import os"
   ]
  },
  {
   "cell_type": "markdown",
   "metadata": {},
   "source": [
    " \n",
    "### createSparseGraph will create the transitional matrix\n",
    "\n",
    "#p - no. of rows in matrix\n",
    "#q - no. of rows in matrix\n",
    "#matrix - identifier for Left/Right Matrix"
   ]
  },
  {
   "cell_type": "code",
   "execution_count": 16,
   "metadata": {},
   "outputs": [],
   "source": [
    "def createSparseGraph(p,q,matrix):\n",
    "    \n",
    "    if matrix:\n",
    "        matrixId=\"L\"\n",
    "        matrixName=\"leftMatrix\"\n",
    "    else:\n",
    "        matrixId=\"R\"\n",
    "        matrixName=\"rightMatrix\"\n",
    "\n",
    "    pVal=set([random.randint(1,p) for i in range(p)])\n",
    "    matrixSize=str(p//1000)+\"kX\"+str(q//1000)+\"k/\"\n",
    "    \n",
    "    filename=\"input/sparse/\"+matrixSize+matrixName\n",
    "    if not os.path.exists(os.path.dirname(filename)):\n",
    "        try:\n",
    "            os.makedirs(os.path.dirname(filename))\n",
    "        except OSError as exc: # Guard against race condition\n",
    "            if exc.errno != errno.EEXIST:\n",
    "                raise\n",
    "    with open(filename,\"w\") as file:\n",
    "        \n",
    "        for rowID in pVal:\n",
    "            qVal=random.sample(range(1,q+1),random.randint(1,q))\n",
    "            file.write(\",\".join([matrixId,str(rowID)]+[ str(colID)+\":\"+ str(random.randint(1,100)) for colID in qVal])+\"\\n\")"
   ]
  },
  {
   "cell_type": "code",
   "execution_count": 32,
   "metadata": {},
   "outputs": [],
   "source": [
    "def createDenseGraph(p,q,matrix):\n",
    "#     pVal=set([random.randint(1,p) for i in range(p)])\n",
    "\n",
    "    if matrix:\n",
    "        matrixId=\"L\"\n",
    "        matrixName=\"leftMatrix\"\n",
    "    else:\n",
    "        matrixId=\"R\"\n",
    "        matrixName=\"rightMatrix\"\n",
    "        \n",
    "    print(\"Without columnID\")\n",
    "    start=time.time()\n",
    "    matrixSize=str(p//1000)+\"kX\"+str(q//1000)+\"k/\"\n",
    "    \n",
    "    filename=\"input/dense/\"+matrixSize+matrixName+\".txt\"\n",
    "    if not os.path.exists(os.path.dirname(filename)):\n",
    "        try:\n",
    "            os.makedirs(os.path.dirname(filename))\n",
    "        except OSError as exc: # Guard against race condition\n",
    "            if exc.errno != errno.EEXIST:\n",
    "                raise\n",
    "    with open(filename,\"w\") as file:\n",
    "        \n",
    "        for rowID in range(p):\n",
    "            file.write(\",\".join([matrixId,str(rowID+1)]+[\"1\" for colID in range(q)])+\"\\n\")\n",
    "    end=time.time()\n",
    "    duration=end-start\n",
    "    print(duration)"
   ]
  },
  {
   "cell_type": "code",
   "execution_count": 33,
   "metadata": {},
   "outputs": [],
   "source": [
    "def generateGraph(*sizeArgs):\n",
    "    for size in sizeArgs:\n",
    "        createDenseGraph(size,size,True)\n",
    "        createDenseGraph(size,size,False)"
   ]
  },
  {
   "cell_type": "code",
   "execution_count": 23,
   "metadata": {},
   "outputs": [
    {
     "name": "stdout",
     "output_type": "stream",
     "text": [
      "Without columnID\n",
      "4.1899566650390625\n",
      "Without columnID\n",
      "4.367550611495972\n"
     ]
    }
   ],
   "source": [
    "createDenseGraph(10000,10000,True)\n",
    "createDenseGraph(10000,10000,False)"
   ]
  },
  {
   "cell_type": "code",
   "execution_count": 24,
   "metadata": {},
   "outputs": [
    {
     "name": "stdout",
     "output_type": "stream",
     "text": [
      "Without columnID\n",
      "20.000474214553833\n",
      "Without columnID\n",
      "17.924904584884644\n"
     ]
    }
   ],
   "source": [
    "createDenseGraph(20000,20000,True)\n",
    "createDenseGraph(20000,20000,False)"
   ]
  },
  {
   "cell_type": "code",
   "execution_count": 25,
   "metadata": {},
   "outputs": [
    {
     "name": "stdout",
     "output_type": "stream",
     "text": [
      "Without columnID\n",
      "41.529903411865234\n",
      "Without columnID\n",
      "49.06450605392456\n"
     ]
    }
   ],
   "source": [
    "createDenseGraph(30000,30000,True)\n",
    "createDenseGraph(30000,30000,False)"
   ]
  },
  {
   "cell_type": "code",
   "execution_count": 29,
   "metadata": {},
   "outputs": [
    {
     "name": "stdout",
     "output_type": "stream",
     "text": [
      "Without columnID\n",
      "1.2031986713409424\n",
      "Without columnID\n",
      "1.0786645412445068\n"
     ]
    }
   ],
   "source": [
    "createDenseGraph(5000,5000,True)\n",
    "createDenseGraph(5000,5000,False)"
   ]
  },
  {
   "cell_type": "code",
   "execution_count": 34,
   "metadata": {},
   "outputs": [
    {
     "name": "stdout",
     "output_type": "stream",
     "text": [
      "Without columnID\n",
      "2.47934889793396\n",
      "Without columnID\n",
      "2.02298903465271\n",
      "Without columnID\n",
      "3.4814817905426025\n",
      "Without columnID\n",
      "3.5430150032043457\n"
     ]
    }
   ],
   "source": [
    "generateGraph(7000,9000)"
   ]
  },
  {
   "cell_type": "code",
   "execution_count": 35,
   "metadata": {},
   "outputs": [
    {
     "name": "stdout",
     "output_type": "stream",
     "text": [
      "Without columnID\n",
      "1.6149356365203857\n",
      "Without columnID\n",
      "2.038037061691284\n"
     ]
    }
   ],
   "source": [
    "generateGraph(6000)"
   ]
  },
  {
   "cell_type": "code",
   "execution_count": null,
   "metadata": {},
   "outputs": [],
   "source": []
  }
 ],
 "metadata": {
  "kernelspec": {
   "display_name": "Python 3",
   "language": "python",
   "name": "python3"
  },
  "language_info": {
   "codemirror_mode": {
    "name": "ipython",
    "version": 3
   },
   "file_extension": ".py",
   "mimetype": "text/x-python",
   "name": "python",
   "nbconvert_exporter": "python",
   "pygments_lexer": "ipython3",
   "version": "3.7.3"
  }
 },
 "nbformat": 4,
 "nbformat_minor": 2
}

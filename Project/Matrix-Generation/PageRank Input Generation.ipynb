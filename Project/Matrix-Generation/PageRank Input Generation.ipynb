{
 "cells": [
  {
   "cell_type": "code",
   "execution_count": 1,
   "metadata": {},
   "outputs": [],
   "source": [
    "from collections import defaultdict\n",
    "import random\n",
    "import time\n",
    "import os"
   ]
  },
  {
   "cell_type": "code",
   "execution_count": 21,
   "metadata": {},
   "outputs": [],
   "source": [
    "def createPageRankVector(N):\n",
    "    nodes=N*N\n",
    "    filename=\"input/pagerank/\"+str(nodes)+\"-nodes/rightMatrix.txt\"\n",
    "    if not os.path.exists(os.path.dirname(filename)):\n",
    "        try:\n",
    "            os.makedirs(os.path.dirname(filename))\n",
    "        except OSError as exc: # Guard against race condition\n",
    "            if exc.errno != errno.EEXIST:\n",
    "                raise\n",
    "    with open(filename,\"w\") as file:\n",
    "        for node in range(1,nodes+1):\n",
    "            file.write(\",\".join([\"R\",str(node),\"1:\"+str(1/nodes)])+\"\\n\")"
   ]
  },
  {
   "cell_type": "code",
   "execution_count": 22,
   "metadata": {},
   "outputs": [],
   "source": [
    "def createTransitionMatrix(N):\n",
    "    nodes=N*N\n",
    "    danglingNodes= [str(node)+\":\"+str(1/nodes) for node in range(1,nodes+1) if node%N==0 ]\n",
    "    \n",
    "    filename=\"input/pagerank/\"+str(nodes)+\"-nodes/leftMatrix.txt\"\n",
    "    if not os.path.exists(os.path.dirname(filename)):\n",
    "        try:\n",
    "            os.makedirs(os.path.dirname(filename))\n",
    "        except OSError as exc: # Guard against race condition\n",
    "            if exc.errno != errno.EEXIST:\n",
    "                raise\n",
    "    with open(filename,\"w\") as file:\n",
    "\n",
    "        for node in range(1,nodes+1):\n",
    "            row= [\"L\",str(node)]+ danglingNodes\n",
    "\n",
    "            if node%N!=1:\n",
    "                row+=[str(node-1)+\":1\"]\n",
    "            file.write(\",\".join(row)+\"\\n\")\n",
    "    createPageRankVector(N)"
   ]
  },
  {
   "cell_type": "code",
   "execution_count": null,
   "metadata": {},
   "outputs": [],
   "source": []
  },
  {
   "cell_type": "code",
   "execution_count": 23,
   "metadata": {},
   "outputs": [],
   "source": [
    "createTransitionMatrix(3)"
   ]
  }
 ],
 "metadata": {
  "kernelspec": {
   "display_name": "Python 3",
   "language": "python",
   "name": "python3"
  },
  "language_info": {
   "codemirror_mode": {
    "name": "ipython",
    "version": 3
   },
   "file_extension": ".py",
   "mimetype": "text/x-python",
   "name": "python",
   "nbconvert_exporter": "python",
   "pygments_lexer": "ipython3",
   "version": "3.7.3"
  }
 },
 "nbformat": 4,
 "nbformat_minor": 2
}
